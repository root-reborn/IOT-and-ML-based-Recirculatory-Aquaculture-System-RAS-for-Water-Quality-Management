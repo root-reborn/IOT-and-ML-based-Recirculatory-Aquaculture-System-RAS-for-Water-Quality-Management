{
 "cells": [
  {
   "cell_type": "code",
   "execution_count": 1,
   "id": "ef31ec0c-371c-4417-aab7-0591e094ff53",
   "metadata": {},
   "outputs": [
    {
     "data": {
      "text/plain": [
       "'/home/binod'"
      ]
     },
     "execution_count": 1,
     "metadata": {},
     "output_type": "execute_result"
    }
   ],
   "source": [
    "pwd"
   ]
  },
  {
   "cell_type": "code",
   "execution_count": 1,
   "id": "309f0b2f-0e33-43db-9297-60388e96b7c8",
   "metadata": {},
   "outputs": [
    {
     "name": "stdout",
     "output_type": "stream",
     "text": [
      "/home/binod/EDP/Dataset\n"
     ]
    },
    {
     "name": "stderr",
     "output_type": "stream",
     "text": [
      "/usr/local/lib/python3.10/dist-packages/IPython/core/magics/osm.py:417: UserWarning: This is now an optional IPython functionality, setting dhist requires you to install the `pickleshare` library.\n",
      "  self.shell.db['dhist'] = compress_dhist(dhist)[-100:]\n"
     ]
    }
   ],
   "source": [
    "cd EDP/Dataset/"
   ]
  },
  {
   "cell_type": "code",
   "execution_count": 15,
   "id": "affac860-fcc5-4f89-9c4d-5cd64108ac13",
   "metadata": {},
   "outputs": [
    {
     "data": {
      "text/plain": [
       "'/home/binod/EDP/Dataset'"
      ]
     },
     "execution_count": 15,
     "metadata": {},
     "output_type": "execute_result"
    }
   ],
   "source": [
    "pwd"
   ]
  },
  {
   "cell_type": "code",
   "execution_count": 16,
   "id": "11804a5a-b405-430f-8e76-bec35d3e0092",
   "metadata": {},
   "outputs": [
    {
     "name": "stdout",
     "output_type": "stream",
     "text": [
      "'Water Quality Testing.csv'\n"
     ]
    }
   ],
   "source": [
    "ls"
   ]
  },
  {
   "cell_type": "code",
   "execution_count": 22,
   "id": "a649e9f4-4025-4204-8c81-d02c7520a71b",
   "metadata": {},
   "outputs": [],
   "source": [
    "# The above dataset is taken from Kaggle at \"https://www.kaggle.com/datasets/shreyanshverma27/water-quality-testing/data\" "
   ]
  },
  {
   "cell_type": "code",
   "execution_count": 4,
   "id": "8d9b1ff5-c735-4376-9dfd-f90750ccd9ac",
   "metadata": {},
   "outputs": [],
   "source": [
    "import numpy as np"
   ]
  },
  {
   "cell_type": "code",
   "execution_count": 5,
   "id": "e14bc213-0fc6-410e-aff7-a8e5423c2cfe",
   "metadata": {},
   "outputs": [
    {
     "ename": "ModuleNotFoundError",
     "evalue": "No module named 'pandas'",
     "output_type": "error",
     "traceback": [
      "\u001b[0;31m---------------------------------------------------------------------------\u001b[0m",
      "\u001b[0;31mModuleNotFoundError\u001b[0m                       Traceback (most recent call last)",
      "Cell \u001b[0;32mIn[5], line 1\u001b[0m\n\u001b[0;32m----> 1\u001b[0m \u001b[38;5;28;01mimport\u001b[39;00m \u001b[38;5;21;01mpandas\u001b[39;00m \u001b[38;5;28;01mas\u001b[39;00m \u001b[38;5;21;01mpd\u001b[39;00m\n",
      "\u001b[0;31mModuleNotFoundError\u001b[0m: No module named 'pandas'"
     ]
    }
   ],
   "source": [
    "import pandas as pd"
   ]
  },
  {
   "cell_type": "code",
   "execution_count": 6,
   "id": "97a4a644-09b0-4a62-87f9-611b81edecf0",
   "metadata": {},
   "outputs": [
    {
     "ename": "SyntaxError",
     "evalue": "invalid syntax (3029356636.py, line 1)",
     "output_type": "error",
     "traceback": [
      "\u001b[0;36m  Cell \u001b[0;32mIn[6], line 1\u001b[0;36m\u001b[0m\n\u001b[0;31m    pip3 install pandas\u001b[0m\n\u001b[0m         ^\u001b[0m\n\u001b[0;31mSyntaxError\u001b[0m\u001b[0;31m:\u001b[0m invalid syntax\n"
     ]
    }
   ],
   "source": [
    "pip3 install pandas"
   ]
  },
  {
   "cell_type": "code",
   "execution_count": 7,
   "id": "937dac75-a4a7-414b-acbc-95af48873074",
   "metadata": {},
   "outputs": [
    {
     "name": "stdout",
     "output_type": "stream",
     "text": [
      "Defaulting to user installation because normal site-packages is not writeable\n",
      "Collecting pandas\n",
      "  Downloading pandas-2.2.2-cp310-cp310-manylinux_2_17_x86_64.manylinux2014_x86_64.whl (13.0 MB)\n",
      "\u001b[2K     \u001b[38;2;114;156;31m━━━━━━━━━━━━━━━━━━━━━━━━━━━━━━━━━━━━━━━\u001b[0m \u001b[32m13.0/13.0 MB\u001b[0m \u001b[31m113.9 kB/s\u001b[0m eta \u001b[36m0:00:00\u001b[0mm eta \u001b[36m0:00:01\u001b[0m[36m0:00:03\u001b[0m\n",
      "\u001b[?25hCollecting tzdata>=2022.7\n",
      "  Downloading tzdata-2024.1-py2.py3-none-any.whl (345 kB)\n",
      "\u001b[2K     \u001b[38;2;114;156;31m━━━━━━━━━━━━━━━━━━━━━━━━━━━━━━━━━━━━━\u001b[0m \u001b[32m345.4/345.4 KB\u001b[0m \u001b[31m102.5 kB/s\u001b[0m eta \u001b[36m0:00:00\u001b[0m kB/s\u001b[0m eta \u001b[36m0:00:01\u001b[0m:01\u001b[0m\n",
      "\u001b[?25hCollecting numpy>=1.22.4\n",
      "  Downloading numpy-1.26.4-cp310-cp310-manylinux_2_17_x86_64.manylinux2014_x86_64.whl (18.2 MB)\n",
      "\u001b[2K     \u001b[38;2;114;156;31m━━━━━━━━━━━━━━━━━━━━━━━━━━━━━━━━━━━━━━━\u001b[0m \u001b[32m18.2/18.2 MB\u001b[0m \u001b[31m153.9 kB/s\u001b[0m eta \u001b[36m0:00:00\u001b[0mm eta \u001b[36m0:00:01\u001b[0m[36m0:00:03\u001b[0m\n",
      "\u001b[?25hRequirement already satisfied: python-dateutil>=2.8.2 in /usr/local/lib/python3.10/dist-packages (from pandas) (2.9.0.post0)\n",
      "Requirement already satisfied: pytz>=2020.1 in /usr/lib/python3/dist-packages (from pandas) (2022.1)\n",
      "Requirement already satisfied: six>=1.5 in /usr/lib/python3/dist-packages (from python-dateutil>=2.8.2->pandas) (1.16.0)\n",
      "Installing collected packages: tzdata, numpy, pandas\n",
      "\u001b[33m  WARNING: The script f2py is installed in '/home/binod/.local/bin' which is not on PATH.\n",
      "  Consider adding this directory to PATH or, if you prefer to suppress this warning, use --no-warn-script-location.\u001b[0m\u001b[33m\n",
      "\u001b[0mSuccessfully installed numpy-1.26.4 pandas-2.2.2 tzdata-2024.1\n"
     ]
    }
   ],
   "source": [
    "# Jupyter Notebook cells are meant to execute Python code but not shell commands.We should prefix command with \"!\" (bang operator) to run shell commands within a Jupyter Notebook cell\n",
    "!pip3 install pandas"
   ]
  },
  {
   "cell_type": "code",
   "execution_count": 3,
   "id": "13e8a5cc-54d6-459a-b9e6-c5083b287927",
   "metadata": {},
   "outputs": [],
   "source": [
    "import pandas as pd"
   ]
  },
  {
   "cell_type": "code",
   "execution_count": 4,
   "id": "59835344-50b8-47b9-ab89-5a082e786144",
   "metadata": {},
   "outputs": [
    {
     "ename": "ModuleNotFoundError",
     "evalue": "No module named 'matplotlib'",
     "output_type": "error",
     "traceback": [
      "\u001b[0;31m---------------------------------------------------------------------------\u001b[0m",
      "\u001b[0;31mModuleNotFoundError\u001b[0m                       Traceback (most recent call last)",
      "Cell \u001b[0;32mIn[4], line 1\u001b[0m\n\u001b[0;32m----> 1\u001b[0m \u001b[38;5;28;01mimport\u001b[39;00m \u001b[38;5;21;01mmatplotlib\u001b[39;00m\u001b[38;5;21;01m.\u001b[39;00m\u001b[38;5;21;01mpyplot\u001b[39;00m \u001b[38;5;28;01mas\u001b[39;00m \u001b[38;5;21;01mplt\u001b[39;00m\n",
      "\u001b[0;31mModuleNotFoundError\u001b[0m: No module named 'matplotlib'"
     ]
    }
   ],
   "source": [
    "import matplotlib.pyplot as plt"
   ]
  },
  {
   "cell_type": "code",
   "execution_count": 5,
   "id": "14569dc2-a57e-461e-baef-5b533db6f5c9",
   "metadata": {},
   "outputs": [
    {
     "name": "stdout",
     "output_type": "stream",
     "text": [
      "Defaulting to user installation because normal site-packages is not writeable\n",
      "Collecting matplotlib\n",
      "  Downloading matplotlib-3.8.4-cp310-cp310-manylinux_2_17_x86_64.manylinux2014_x86_64.whl (11.6 MB)\n",
      "\u001b[2K     \u001b[38;2;114;156;31m━━━━━━━━━━━━━━━━━━━━━━━━━━━━━━━━━━━━━━━━\u001b[0m \u001b[32m11.6/11.6 MB\u001b[0m \u001b[31m3.2 MB/s\u001b[0m eta \u001b[36m0:00:00\u001b[0mm eta \u001b[36m0:00:01\u001b[0m[36m0:00:01\u001b[0m\n",
      "\u001b[?25hCollecting contourpy>=1.0.1\n",
      "  Downloading contourpy-1.2.1-cp310-cp310-manylinux_2_17_x86_64.manylinux2014_x86_64.whl (305 kB)\n",
      "\u001b[2K     \u001b[38;2;114;156;31m━━━━━━━━━━━━━━━━━━━━━━━━━━━━━━━━━━━━━━━\u001b[0m \u001b[32m305.2/305.2 KB\u001b[0m \u001b[31m1.7 MB/s\u001b[0m eta \u001b[36m0:00:00\u001b[0m MB/s\u001b[0m eta \u001b[36m0:00:01\u001b[0m:01\u001b[0m\n",
      "\u001b[?25hCollecting kiwisolver>=1.3.1\n",
      "  Downloading kiwisolver-1.4.5-cp310-cp310-manylinux_2_12_x86_64.manylinux2010_x86_64.whl (1.6 MB)\n",
      "\u001b[2K     \u001b[38;2;114;156;31m━━━━━━━━━━━━━━━━━━━━━━━━━━━━━━━━━━━━━━━━\u001b[0m \u001b[32m1.6/1.6 MB\u001b[0m \u001b[31m3.5 MB/s\u001b[0m eta \u001b[36m0:00:00\u001b[0m[31m3.6 MB/s\u001b[0m eta \u001b[36m0:00:01\u001b[0m\n",
      "\u001b[?25hCollecting fonttools>=4.22.0\n",
      "  Downloading fonttools-4.51.0-cp310-cp310-manylinux_2_17_x86_64.manylinux2014_x86_64.whl (4.6 MB)\n",
      "\u001b[2K     \u001b[38;2;114;156;31m━━━━━━━━━━━━━━━━━━━━━━━━━━━━━━━━━━━━━━━━\u001b[0m \u001b[32m4.6/4.6 MB\u001b[0m \u001b[31m5.0 MB/s\u001b[0m eta \u001b[36m0:00:00\u001b[0m[36m0:00:01\u001b[0mm eta \u001b[36m0:00:01\u001b[0m\n",
      "\u001b[?25hRequirement already satisfied: numpy>=1.21 in /home/binod/.local/lib/python3.10/site-packages (from matplotlib) (1.26.4)\n",
      "Requirement already satisfied: python-dateutil>=2.7 in /usr/local/lib/python3.10/dist-packages (from matplotlib) (2.9.0.post0)\n",
      "Requirement already satisfied: packaging>=20.0 in /usr/local/lib/python3.10/dist-packages (from matplotlib) (24.0)\n",
      "Requirement already satisfied: pyparsing>=2.3.1 in /usr/lib/python3/dist-packages (from matplotlib) (2.4.7)\n",
      "Requirement already satisfied: pillow>=8 in /usr/lib/python3/dist-packages (from matplotlib) (9.0.1)\n",
      "Collecting cycler>=0.10\n",
      "  Downloading cycler-0.12.1-py3-none-any.whl (8.3 kB)\n",
      "Requirement already satisfied: six>=1.5 in /usr/lib/python3/dist-packages (from python-dateutil>=2.7->matplotlib) (1.16.0)\n",
      "Installing collected packages: kiwisolver, fonttools, cycler, contourpy, matplotlib\n",
      "Successfully installed contourpy-1.2.1 cycler-0.12.1 fonttools-4.51.0 kiwisolver-1.4.5 matplotlib-3.8.4\n"
     ]
    }
   ],
   "source": [
    "!pip3 install matplotlib"
   ]
  },
  {
   "cell_type": "code",
   "execution_count": 6,
   "id": "333af8a4-20cf-4011-91bf-9ff3ef39c852",
   "metadata": {},
   "outputs": [],
   "source": [
    "import matplotlib.pyplot as plt"
   ]
  },
  {
   "cell_type": "code",
   "execution_count": 7,
   "id": "9e75fc01-71a6-4583-9ee7-c81c0c318ef0",
   "metadata": {},
   "outputs": [
    {
     "ename": "ModuleNotFoundError",
     "evalue": "No module named 'sklearn'",
     "output_type": "error",
     "traceback": [
      "\u001b[0;31m---------------------------------------------------------------------------\u001b[0m",
      "\u001b[0;31mModuleNotFoundError\u001b[0m                       Traceback (most recent call last)",
      "Cell \u001b[0;32mIn[7], line 1\u001b[0m\n\u001b[0;32m----> 1\u001b[0m \u001b[38;5;28;01mfrom\u001b[39;00m \u001b[38;5;21;01msklearn\u001b[39;00m\u001b[38;5;21;01m.\u001b[39;00m\u001b[38;5;21;01mmodel_selection\u001b[39;00m \u001b[38;5;28;01mimport\u001b[39;00m train_test_split\n\u001b[1;32m      2\u001b[0m \u001b[38;5;28;01mfrom\u001b[39;00m \u001b[38;5;21;01msklearn\u001b[39;00m\u001b[38;5;21;01m.\u001b[39;00m\u001b[38;5;21;01mpreprocessing\u001b[39;00m \u001b[38;5;28;01mimport\u001b[39;00m PolynomialFeatures\n\u001b[1;32m      3\u001b[0m \u001b[38;5;28;01mfrom\u001b[39;00m \u001b[38;5;21;01msklearn\u001b[39;00m\u001b[38;5;21;01m.\u001b[39;00m\u001b[38;5;21;01mlinear_model\u001b[39;00m \u001b[38;5;28;01mimport\u001b[39;00m LinearRegression\n",
      "\u001b[0;31mModuleNotFoundError\u001b[0m: No module named 'sklearn'"
     ]
    }
   ],
   "source": [
    "from sklearn.model_selection import train_test_split\n",
    "from sklearn.preprocessing import PolynomialFeatures\n",
    "from sklearn.linear_model import LinearRegression\n",
    "from sklearn.metrics import mean_squared_error, r2_score"
   ]
  },
  {
   "cell_type": "code",
   "execution_count": 9,
   "id": "1f2273cb-fe0b-45fe-bef8-11870b008765",
   "metadata": {},
   "outputs": [
    {
     "name": "stdout",
     "output_type": "stream",
     "text": [
      "Defaulting to user installation because normal site-packages is not writeable\n",
      "Collecting scikit-learn\n",
      "  Downloading scikit_learn-1.4.2-cp310-cp310-manylinux_2_17_x86_64.manylinux2014_x86_64.whl (12.1 MB)\n",
      "\u001b[2K     \u001b[38;2;114;156;31m━━━━━━━━━━━━━━━━━━━━━━━━━━━━━━━━━━━━━━━\u001b[0m \u001b[32m12.1/12.1 MB\u001b[0m \u001b[31m268.3 kB/s\u001b[0m eta \u001b[36m0:00:00\u001b[0mm eta \u001b[36m0:00:01\u001b[0m[36m0:00:02\u001b[0m\n",
      "\u001b[?25hCollecting scipy>=1.6.0\n",
      "  Downloading scipy-1.13.0-cp310-cp310-manylinux_2_17_x86_64.manylinux2014_x86_64.whl (38.6 MB)\n",
      "\u001b[2K     \u001b[38;2;114;156;31m━━━━━━━━━━━━━━━━━━━━━━━━━━━━━━━━━━━━━━━━\u001b[0m \u001b[32m38.6/38.6 MB\u001b[0m \u001b[31m84.9 kB/s\u001b[0m eta \u001b[36m0:00:00\u001b[0mm eta \u001b[36m0:00:01\u001b[0m[36m0:00:11\u001b[0m\n",
      "\u001b[?25hRequirement already satisfied: numpy>=1.19.5 in /home/binod/.local/lib/python3.10/site-packages (from scikit-learn) (1.26.4)\n",
      "Collecting threadpoolctl>=2.0.0\n",
      "  Downloading threadpoolctl-3.5.0-py3-none-any.whl (18 kB)\n",
      "Collecting joblib>=1.2.0\n",
      "  Downloading joblib-1.4.2-py3-none-any.whl (301 kB)\n",
      "\u001b[2K     \u001b[38;2;114;156;31m━━━━━━━━━━━━━━━━━━━━━━━━━━━━━━━━━━━━━\u001b[0m \u001b[32m301.8/301.8 KB\u001b[0m \u001b[31m288.6 kB/s\u001b[0m eta \u001b[36m0:00:00\u001b[0m kB/s\u001b[0m eta \u001b[36m0:00:01\u001b[0m:01\u001b[0m\n",
      "\u001b[?25hInstalling collected packages: threadpoolctl, scipy, joblib, scikit-learn\n",
      "Successfully installed joblib-1.4.2 scikit-learn-1.4.2 scipy-1.13.0 threadpoolctl-3.5.0\n"
     ]
    }
   ],
   "source": [
    "!pip3 install scikit-learn"
   ]
  },
  {
   "cell_type": "code",
   "execution_count": 12,
   "id": "82953dc8-b53a-48de-9e91-18fb187671f5",
   "metadata": {},
   "outputs": [],
   "source": [
    "from sklearn.model_selection import train_test_split\n",
    "from sklearn.preprocessing import PolynomialFeatures\n",
    "from sklearn.linear_model import LinearRegression\n",
    "from sklearn.metrics import mean_squared_error, r2_score"
   ]
  },
  {
   "cell_type": "code",
   "execution_count": 13,
   "id": "d1defd9e-c46e-4088-801d-f2ea9ba13f67",
   "metadata": {},
   "outputs": [],
   "source": [
    "# All imports here\n",
    "import numpy as np\n",
    "import pandas as pd\n",
    "import matplotlib.pyplot as plt\n",
    "\n",
    "from sklearn.model_selection import train_test_split\n",
    "from sklearn.preprocessing import PolynomialFeatures\n",
    "from sklearn.linear_model import LinearRegression\n",
    "from sklearn.metrics import mean_squared_error, r2_score"
   ]
  },
  {
   "cell_type": "code",
   "execution_count": 19,
   "id": "b35d2102-d017-4bd5-83d2-4a54591b58e8",
   "metadata": {},
   "outputs": [],
   "source": [
    "# Load the dataset into a pandas DataFrame \"df\"\n",
    "df = pd.read_csv('Water Quality Testing.csv')\n",
    "# Pandas DataFrame is a two-dimensional labeled data structure with columns of potentially different types.It resembles a spreadsheet or SQL table, making it easy to work with structured data like with the above .csv file"
   ]
  },
  {
   "cell_type": "code",
   "execution_count": 20,
   "id": "1a3e4ce8-4e67-4984-9fdd-b0ca1d02f78f",
   "metadata": {},
   "outputs": [
    {
     "name": "stdout",
     "output_type": "stream",
     "text": [
      "   Sample ID    pH  Temperature (°C)  Turbidity (NTU)  \\\n",
      "0          1  7.25              23.1              4.5   \n",
      "1          2  7.11              22.3              5.1   \n",
      "2          3  7.03              21.5              3.9   \n",
      "3          4  7.38              22.9              3.2   \n",
      "4          5  7.45              20.7              3.8   \n",
      "\n",
      "   Dissolved Oxygen (mg/L)  Conductivity (µS/cm)  \n",
      "0                      7.8                   342  \n",
      "1                      6.2                   335  \n",
      "2                      8.3                   356  \n",
      "3                      9.5                   327  \n",
      "4                      8.1                   352  \n"
     ]
    }
   ],
   "source": [
    "# Print the first 5 rows of the DataFrame\n",
    "print(df.head())"
   ]
  },
  {
   "cell_type": "code",
   "execution_count": 21,
   "id": "9f9176df-714d-4103-bf85-935b3c10a100",
   "metadata": {},
   "outputs": [
    {
     "name": "stdout",
     "output_type": "stream",
     "text": [
      "     Sample ID    pH  Temperature (°C)  Turbidity (NTU)  \\\n",
      "495        496  7.01              20.8              4.6   \n",
      "496        497  7.31              22.5              3.8   \n",
      "497        498  7.02              21.2              4.7   \n",
      "498        499  7.25              23.0              3.9   \n",
      "499        500  7.12              20.9              4.4   \n",
      "\n",
      "     Dissolved Oxygen (mg/L)  Conductivity (µS/cm)  \n",
      "495                      7.1                   327  \n",
      "496                      9.4                   361  \n",
      "497                      7.5                   334  \n",
      "498                      8.7                   359  \n",
      "499                      8.2                   339  \n"
     ]
    }
   ],
   "source": [
    "# Print the last 5 rows of the DataFrame\n",
    "print(df.tail())"
   ]
  },
  {
   "cell_type": "code",
   "execution_count": 32,
   "id": "837a54e4-d1dd-4264-977f-3d3fdf946298",
   "metadata": {},
   "outputs": [
    {
     "name": "stdout",
     "output_type": "stream",
     "text": [
      "(500, 6)\n"
     ]
    }
   ],
   "source": [
    "# Print the number of rows and columns in the DataFrame\n",
    "print(df.shape)"
   ]
  },
  {
   "cell_type": "code",
   "execution_count": 23,
   "id": "21a9ac92-a2bd-4ff5-bc9a-c292a8195c38",
   "metadata": {},
   "outputs": [
    {
     "name": "stdout",
     "output_type": "stream",
     "text": [
      "Index(['Sample ID', 'pH', 'Temperature (°C)', 'Turbidity (NTU)',\n",
      "       'Dissolved Oxygen (mg/L)', 'Conductivity (µS/cm)'],\n",
      "      dtype='object')\n"
     ]
    }
   ],
   "source": [
    "# Print the column names of the DataFrame\n",
    "print(df.columns)"
   ]
  },
  {
   "cell_type": "code",
   "execution_count": 39,
   "id": "82fb91d1-6e55-4322-a749-aa5cb837f8e0",
   "metadata": {},
   "outputs": [
    {
     "name": "stdout",
     "output_type": "stream",
     "text": [
      "0      7.25\n",
      "1      7.11\n",
      "2      7.03\n",
      "3      7.38\n",
      "4      7.45\n",
      "       ... \n",
      "495    7.01\n",
      "496    7.31\n",
      "497    7.02\n",
      "498    7.25\n",
      "499    7.12\n",
      "Name: pH, Length: 500, dtype: float64\n"
     ]
    }
   ],
   "source": [
    "# Print the first and last 5 values/rows of a specific column\n",
    "print(df['pH'])"
   ]
  },
  {
   "cell_type": "code",
   "execution_count": 38,
   "id": "cd8c910c-db3f-406a-a584-206b2928ab8a",
   "metadata": {},
   "outputs": [
    {
     "name": "stdout",
     "output_type": "stream",
     "text": [
      "Sample ID                    int64\n",
      "pH                         float64\n",
      "Temperature (°C)           float64\n",
      "Turbidity (NTU)            float64\n",
      "Dissolved Oxygen (mg/L)    float64\n",
      "Conductivity (µS/cm)         int64\n",
      "dtype: object\n"
     ]
    }
   ],
   "source": [
    "# Print the data types of all columns in the DataFrame\n",
    "print(df.dtypes)"
   ]
  },
  {
   "cell_type": "code",
   "execution_count": 29,
   "id": "a63b3821-6d29-4ce8-b6d3-09fa39678075",
   "metadata": {},
   "outputs": [
    {
     "name": "stdout",
     "output_type": "stream",
     "text": [
      "        Sample ID          pH  Temperature (°C)  Turbidity (NTU)  \\\n",
      "count  500.000000  500.000000        500.000000       500.000000   \n",
      "mean   250.500000    7.161140         22.054400         4.169400   \n",
      "std    144.481833    0.107531          0.903123         0.397492   \n",
      "min      1.000000    6.830000         20.300000         3.100000   \n",
      "25%    125.750000    7.080000         21.200000         3.800000   \n",
      "50%    250.500000    7.160000         22.200000         4.200000   \n",
      "75%    375.250000    7.250000         22.900000         4.500000   \n",
      "max    500.000000    7.480000         23.600000         5.100000   \n",
      "\n",
      "       Dissolved Oxygen (mg/L)  Conductivity (µS/cm)  \n",
      "count               500.000000            500.000000  \n",
      "mean                  8.382200            344.362000  \n",
      "std                   0.822396             13.038672  \n",
      "min                   6.000000            316.000000  \n",
      "25%                   7.800000            333.000000  \n",
      "50%                   8.400000            344.000000  \n",
      "75%                   9.100000            355.000000  \n",
      "max                   9.900000            370.000000  \n"
     ]
    }
   ],
   "source": [
    "# Print summary statistics of each column of the DataFrame\n",
    "print(df.describe())"
   ]
  },
  {
   "cell_type": "code",
   "execution_count": 67,
   "id": "66941396-32fb-4180-93af-21e15a7b3ad5",
   "metadata": {},
   "outputs": [
    {
     "name": "stdout",
     "output_type": "stream",
     "text": [
      "Column 'Sample ID': Min = 1, Max = 500\n",
      "Column 'pH': Min = 6.83, Max = 7.48\n",
      "Column 'Temperature (°C)': Min = 20.3, Max = 23.6\n",
      "Column 'Turbidity (NTU)': Min = 3.1, Max = 5.1\n",
      "Column 'Dissolved Oxygen (mg/L)': Min = 6.0, Max = 9.9\n",
      "Column 'Conductivity (µS/cm)': Min = 316, Max = 370\n"
     ]
    }
   ],
   "source": [
    "# To print only the min and max value of each column of the Dataframe\n",
    "for column in df.columns:\n",
    "    min_val = df[column].min()\n",
    "    max_val = df[column].max()\n",
    "    print(f\"Column '{column}': Min = {min_val}, Max = {max_val}\")"
   ]
  },
  {
   "cell_type": "code",
   "execution_count": 31,
   "id": "d9179880-ebb9-4c98-9e92-b5218814245e",
   "metadata": {},
   "outputs": [],
   "source": [
    "# We can use these min and max values of the pH,Temperature,Turbidity and Conductivity as boundary values for which our prediction of Dissolved Oxygen level via Quadratic Regression works.\n",
    "# This is because since our Quadratic Regression ML(Machine Learning) model is not trained beyond these min and max values for the above 4 parameters in the above dataset,so there is a high chance that the \n",
    "# Dissolved Oxygen level value predicted using the Quadratic Regression ML model with input values beyond min and max value will result in highly inaccurate prediction of DO-level value.\n",
    "# So,If any of our sensor gives values beyond the above min and max values of pH,Temperature,Turbidity and Conductivity,then we will abort/restrict from calculating Dissolved Oxygen level using the obtained Quadratic Regression. \n",
    "# So these min and max values act as the limitations of our Quadratic Regression ML model.But in future if we have a better dataset with wide range of values beyond the above min and max values of each of 4 parameters,then we can stretch the limitations of our Quadratic Regression ML model."
   ]
  },
  {
   "cell_type": "code",
   "execution_count": 44,
   "id": "028967b4-1213-4deb-bed8-273628696261",
   "metadata": {},
   "outputs": [],
   "source": [
    "# Features variable X\n",
    "X = df[['pH', 'Temperature (°C)', 'Turbidity (NTU)', 'Conductivity (µS/cm)']]\n",
    "\n",
    "# In polynomial regression,The Features variable (often denoted as X) represents the input variables or independent variables used to predict the target variable.\n",
    "# In polynomial regression, the features variable \"X\" typically consists of one or more than one input variables/independent variables/predictor variables.\n",
    "# In our case we have 4 predictor variables i.e ph,temperature,turbidity and conductivity for our features variable X."
   ]
  },
  {
   "cell_type": "code",
   "execution_count": 45,
   "id": "ebfff731-fa23-49a9-8adc-333463b8ea99",
   "metadata": {},
   "outputs": [],
   "source": [
    "# Target variable y\n",
    "y = df['Dissolved Oxygen (mg/L)']\n",
    "\n",
    "# In polynomial regression,The Target variable (often denoted as y) represents the output variable or dependent variable that we want to predict based on the input variables.\n",
    "# In polynomial regression, the Target variable \"y\" typically consists of only one output variable/dependent variable."
   ]
  },
  {
   "cell_type": "code",
   "execution_count": 46,
   "id": "8286bfa2-07ce-478e-b6b8-00fb03591ac4",
   "metadata": {},
   "outputs": [],
   "source": [
    "# Split the data into training and testing sets (90% train, 10% test)\n",
    "X_train, X_test, y_train, y_test = train_test_split(X, y, test_size=0.1, random_state=42)\n",
    "\n",
    "# The ML model is trained to identify the relation between the input variables and output variable values in X_train and y_train respectively.\n",
    "# Then the trained model's performance is evaluated using the 10% unseen data of input variables and their corresponding output variable values in X_test and y_test respectively.\n",
    "# \"random_state=42\" sets the random seed value that should be used by certain random number generators in scikit-learn.\n",
    "# Setting random_state to a specific seed value ensures that the random splitting of the data into training and testing sets which is reproducible in future i.e every time you run the code with the same random_state seed value,you will get the same random split of train-test data.\n",
    "# This ensures we obtain consistent results, which is particularly important for debugging, testing, and comparing different models or configurations.\n",
    "# We can choose any integer value for random_state, but using 42 is a common convention in the machine learning community."
   ]
  },
  {
   "cell_type": "code",
   "execution_count": 52,
   "id": "751aeb51-35fa-4c9b-b1fb-2a996248eeb8",
   "metadata": {},
   "outputs": [],
   "source": [
    "# Create\\ing polynomial Features\n",
    "poly = PolynomialFeatures(degree=2)         #This line creates an instance of the \"PolynomialFeatures\" class from the scikit-learn library.\n",
    "X_train_poly = poly.fit_transform(X_train)  #This line transforms the training set Features (X_train) into polynomial Features using the fit_transform method of the \"PolynomialFeatures\" object created in the previous step (poly).\n",
    "X_test_poly = poly.transform(X_test)        #This line transforms the test set Features (X_test) into polynomial Features using the transform method of the \"PolynomialFeatures\" object created earlier (poly).\n",
    "\n",
    "# \"PolynomialFeatures\" is a preprocessing technique that transforms the input Features(X_train and X_test) into polynomial Features of the specified degree. For example, if the original features are [x1, x2], transforming them into second-degree polynomial features would result in [1, x1, x2, x1^2, x1*x2, x2^2].\n",
    "# The \"fit_transform\" method fits the PolynomialFeatures object to the training data (X_train) and then transforms it into polynomial features.The resulting X_train_poly is a new array containing the original Features along with the polynomial Features generated from them. It is suitable for training polynomial regression models.\n",
    "# Unlike \"fit_transform\", the \"transform\" method only applies the transformation learned from the training data (X_train_poly) to the test data (X_test). This ensures consistency in feature transformation across training and test sets.The resulting X_test_poly contains polynomial Features derived from the original test set features, allowing us to make predictions using the trained polynomial regression model."
   ]
  },
  {
   "cell_type": "code",
   "execution_count": 51,
   "id": "0fb155c1-929b-4d7e-9345-6adc4c05c983",
   "metadata": {},
   "outputs": [
    {
     "data": {
      "text/html": [
       "<style>#sk-container-id-1 {\n",
       "  /* Definition of color scheme common for light and dark mode */\n",
       "  --sklearn-color-text: black;\n",
       "  --sklearn-color-line: gray;\n",
       "  /* Definition of color scheme for unfitted estimators */\n",
       "  --sklearn-color-unfitted-level-0: #fff5e6;\n",
       "  --sklearn-color-unfitted-level-1: #f6e4d2;\n",
       "  --sklearn-color-unfitted-level-2: #ffe0b3;\n",
       "  --sklearn-color-unfitted-level-3: chocolate;\n",
       "  /* Definition of color scheme for fitted estimators */\n",
       "  --sklearn-color-fitted-level-0: #f0f8ff;\n",
       "  --sklearn-color-fitted-level-1: #d4ebff;\n",
       "  --sklearn-color-fitted-level-2: #b3dbfd;\n",
       "  --sklearn-color-fitted-level-3: cornflowerblue;\n",
       "\n",
       "  /* Specific color for light theme */\n",
       "  --sklearn-color-text-on-default-background: var(--sg-text-color, var(--theme-code-foreground, var(--jp-content-font-color1, black)));\n",
       "  --sklearn-color-background: var(--sg-background-color, var(--theme-background, var(--jp-layout-color0, white)));\n",
       "  --sklearn-color-border-box: var(--sg-text-color, var(--theme-code-foreground, var(--jp-content-font-color1, black)));\n",
       "  --sklearn-color-icon: #696969;\n",
       "\n",
       "  @media (prefers-color-scheme: dark) {\n",
       "    /* Redefinition of color scheme for dark theme */\n",
       "    --sklearn-color-text-on-default-background: var(--sg-text-color, var(--theme-code-foreground, var(--jp-content-font-color1, white)));\n",
       "    --sklearn-color-background: var(--sg-background-color, var(--theme-background, var(--jp-layout-color0, #111)));\n",
       "    --sklearn-color-border-box: var(--sg-text-color, var(--theme-code-foreground, var(--jp-content-font-color1, white)));\n",
       "    --sklearn-color-icon: #878787;\n",
       "  }\n",
       "}\n",
       "\n",
       "#sk-container-id-1 {\n",
       "  color: var(--sklearn-color-text);\n",
       "}\n",
       "\n",
       "#sk-container-id-1 pre {\n",
       "  padding: 0;\n",
       "}\n",
       "\n",
       "#sk-container-id-1 input.sk-hidden--visually {\n",
       "  border: 0;\n",
       "  clip: rect(1px 1px 1px 1px);\n",
       "  clip: rect(1px, 1px, 1px, 1px);\n",
       "  height: 1px;\n",
       "  margin: -1px;\n",
       "  overflow: hidden;\n",
       "  padding: 0;\n",
       "  position: absolute;\n",
       "  width: 1px;\n",
       "}\n",
       "\n",
       "#sk-container-id-1 div.sk-dashed-wrapped {\n",
       "  border: 1px dashed var(--sklearn-color-line);\n",
       "  margin: 0 0.4em 0.5em 0.4em;\n",
       "  box-sizing: border-box;\n",
       "  padding-bottom: 0.4em;\n",
       "  background-color: var(--sklearn-color-background);\n",
       "}\n",
       "\n",
       "#sk-container-id-1 div.sk-container {\n",
       "  /* jupyter's `normalize.less` sets `[hidden] { display: none; }`\n",
       "     but bootstrap.min.css set `[hidden] { display: none !important; }`\n",
       "     so we also need the `!important` here to be able to override the\n",
       "     default hidden behavior on the sphinx rendered scikit-learn.org.\n",
       "     See: https://github.com/scikit-learn/scikit-learn/issues/21755 */\n",
       "  display: inline-block !important;\n",
       "  position: relative;\n",
       "}\n",
       "\n",
       "#sk-container-id-1 div.sk-text-repr-fallback {\n",
       "  display: none;\n",
       "}\n",
       "\n",
       "div.sk-parallel-item,\n",
       "div.sk-serial,\n",
       "div.sk-item {\n",
       "  /* draw centered vertical line to link estimators */\n",
       "  background-image: linear-gradient(var(--sklearn-color-text-on-default-background), var(--sklearn-color-text-on-default-background));\n",
       "  background-size: 2px 100%;\n",
       "  background-repeat: no-repeat;\n",
       "  background-position: center center;\n",
       "}\n",
       "\n",
       "/* Parallel-specific style estimator block */\n",
       "\n",
       "#sk-container-id-1 div.sk-parallel-item::after {\n",
       "  content: \"\";\n",
       "  width: 100%;\n",
       "  border-bottom: 2px solid var(--sklearn-color-text-on-default-background);\n",
       "  flex-grow: 1;\n",
       "}\n",
       "\n",
       "#sk-container-id-1 div.sk-parallel {\n",
       "  display: flex;\n",
       "  align-items: stretch;\n",
       "  justify-content: center;\n",
       "  background-color: var(--sklearn-color-background);\n",
       "  position: relative;\n",
       "}\n",
       "\n",
       "#sk-container-id-1 div.sk-parallel-item {\n",
       "  display: flex;\n",
       "  flex-direction: column;\n",
       "}\n",
       "\n",
       "#sk-container-id-1 div.sk-parallel-item:first-child::after {\n",
       "  align-self: flex-end;\n",
       "  width: 50%;\n",
       "}\n",
       "\n",
       "#sk-container-id-1 div.sk-parallel-item:last-child::after {\n",
       "  align-self: flex-start;\n",
       "  width: 50%;\n",
       "}\n",
       "\n",
       "#sk-container-id-1 div.sk-parallel-item:only-child::after {\n",
       "  width: 0;\n",
       "}\n",
       "\n",
       "/* Serial-specific style estimator block */\n",
       "\n",
       "#sk-container-id-1 div.sk-serial {\n",
       "  display: flex;\n",
       "  flex-direction: column;\n",
       "  align-items: center;\n",
       "  background-color: var(--sklearn-color-background);\n",
       "  padding-right: 1em;\n",
       "  padding-left: 1em;\n",
       "}\n",
       "\n",
       "\n",
       "/* Toggleable style: style used for estimator/Pipeline/ColumnTransformer box that is\n",
       "clickable and can be expanded/collapsed.\n",
       "- Pipeline and ColumnTransformer use this feature and define the default style\n",
       "- Estimators will overwrite some part of the style using the `sk-estimator` class\n",
       "*/\n",
       "\n",
       "/* Pipeline and ColumnTransformer style (default) */\n",
       "\n",
       "#sk-container-id-1 div.sk-toggleable {\n",
       "  /* Default theme specific background. It is overwritten whether we have a\n",
       "  specific estimator or a Pipeline/ColumnTransformer */\n",
       "  background-color: var(--sklearn-color-background);\n",
       "}\n",
       "\n",
       "/* Toggleable label */\n",
       "#sk-container-id-1 label.sk-toggleable__label {\n",
       "  cursor: pointer;\n",
       "  display: block;\n",
       "  width: 100%;\n",
       "  margin-bottom: 0;\n",
       "  padding: 0.5em;\n",
       "  box-sizing: border-box;\n",
       "  text-align: center;\n",
       "}\n",
       "\n",
       "#sk-container-id-1 label.sk-toggleable__label-arrow:before {\n",
       "  /* Arrow on the left of the label */\n",
       "  content: \"▸\";\n",
       "  float: left;\n",
       "  margin-right: 0.25em;\n",
       "  color: var(--sklearn-color-icon);\n",
       "}\n",
       "\n",
       "#sk-container-id-1 label.sk-toggleable__label-arrow:hover:before {\n",
       "  color: var(--sklearn-color-text);\n",
       "}\n",
       "\n",
       "/* Toggleable content - dropdown */\n",
       "\n",
       "#sk-container-id-1 div.sk-toggleable__content {\n",
       "  max-height: 0;\n",
       "  max-width: 0;\n",
       "  overflow: hidden;\n",
       "  text-align: left;\n",
       "  /* unfitted */\n",
       "  background-color: var(--sklearn-color-unfitted-level-0);\n",
       "}\n",
       "\n",
       "#sk-container-id-1 div.sk-toggleable__content.fitted {\n",
       "  /* fitted */\n",
       "  background-color: var(--sklearn-color-fitted-level-0);\n",
       "}\n",
       "\n",
       "#sk-container-id-1 div.sk-toggleable__content pre {\n",
       "  margin: 0.2em;\n",
       "  border-radius: 0.25em;\n",
       "  color: var(--sklearn-color-text);\n",
       "  /* unfitted */\n",
       "  background-color: var(--sklearn-color-unfitted-level-0);\n",
       "}\n",
       "\n",
       "#sk-container-id-1 div.sk-toggleable__content.fitted pre {\n",
       "  /* unfitted */\n",
       "  background-color: var(--sklearn-color-fitted-level-0);\n",
       "}\n",
       "\n",
       "#sk-container-id-1 input.sk-toggleable__control:checked~div.sk-toggleable__content {\n",
       "  /* Expand drop-down */\n",
       "  max-height: 200px;\n",
       "  max-width: 100%;\n",
       "  overflow: auto;\n",
       "}\n",
       "\n",
       "#sk-container-id-1 input.sk-toggleable__control:checked~label.sk-toggleable__label-arrow:before {\n",
       "  content: \"▾\";\n",
       "}\n",
       "\n",
       "/* Pipeline/ColumnTransformer-specific style */\n",
       "\n",
       "#sk-container-id-1 div.sk-label input.sk-toggleable__control:checked~label.sk-toggleable__label {\n",
       "  color: var(--sklearn-color-text);\n",
       "  background-color: var(--sklearn-color-unfitted-level-2);\n",
       "}\n",
       "\n",
       "#sk-container-id-1 div.sk-label.fitted input.sk-toggleable__control:checked~label.sk-toggleable__label {\n",
       "  background-color: var(--sklearn-color-fitted-level-2);\n",
       "}\n",
       "\n",
       "/* Estimator-specific style */\n",
       "\n",
       "/* Colorize estimator box */\n",
       "#sk-container-id-1 div.sk-estimator input.sk-toggleable__control:checked~label.sk-toggleable__label {\n",
       "  /* unfitted */\n",
       "  background-color: var(--sklearn-color-unfitted-level-2);\n",
       "}\n",
       "\n",
       "#sk-container-id-1 div.sk-estimator.fitted input.sk-toggleable__control:checked~label.sk-toggleable__label {\n",
       "  /* fitted */\n",
       "  background-color: var(--sklearn-color-fitted-level-2);\n",
       "}\n",
       "\n",
       "#sk-container-id-1 div.sk-label label.sk-toggleable__label,\n",
       "#sk-container-id-1 div.sk-label label {\n",
       "  /* The background is the default theme color */\n",
       "  color: var(--sklearn-color-text-on-default-background);\n",
       "}\n",
       "\n",
       "/* On hover, darken the color of the background */\n",
       "#sk-container-id-1 div.sk-label:hover label.sk-toggleable__label {\n",
       "  color: var(--sklearn-color-text);\n",
       "  background-color: var(--sklearn-color-unfitted-level-2);\n",
       "}\n",
       "\n",
       "/* Label box, darken color on hover, fitted */\n",
       "#sk-container-id-1 div.sk-label.fitted:hover label.sk-toggleable__label.fitted {\n",
       "  color: var(--sklearn-color-text);\n",
       "  background-color: var(--sklearn-color-fitted-level-2);\n",
       "}\n",
       "\n",
       "/* Estimator label */\n",
       "\n",
       "#sk-container-id-1 div.sk-label label {\n",
       "  font-family: monospace;\n",
       "  font-weight: bold;\n",
       "  display: inline-block;\n",
       "  line-height: 1.2em;\n",
       "}\n",
       "\n",
       "#sk-container-id-1 div.sk-label-container {\n",
       "  text-align: center;\n",
       "}\n",
       "\n",
       "/* Estimator-specific */\n",
       "#sk-container-id-1 div.sk-estimator {\n",
       "  font-family: monospace;\n",
       "  border: 1px dotted var(--sklearn-color-border-box);\n",
       "  border-radius: 0.25em;\n",
       "  box-sizing: border-box;\n",
       "  margin-bottom: 0.5em;\n",
       "  /* unfitted */\n",
       "  background-color: var(--sklearn-color-unfitted-level-0);\n",
       "}\n",
       "\n",
       "#sk-container-id-1 div.sk-estimator.fitted {\n",
       "  /* fitted */\n",
       "  background-color: var(--sklearn-color-fitted-level-0);\n",
       "}\n",
       "\n",
       "/* on hover */\n",
       "#sk-container-id-1 div.sk-estimator:hover {\n",
       "  /* unfitted */\n",
       "  background-color: var(--sklearn-color-unfitted-level-2);\n",
       "}\n",
       "\n",
       "#sk-container-id-1 div.sk-estimator.fitted:hover {\n",
       "  /* fitted */\n",
       "  background-color: var(--sklearn-color-fitted-level-2);\n",
       "}\n",
       "\n",
       "/* Specification for estimator info (e.g. \"i\" and \"?\") */\n",
       "\n",
       "/* Common style for \"i\" and \"?\" */\n",
       "\n",
       ".sk-estimator-doc-link,\n",
       "a:link.sk-estimator-doc-link,\n",
       "a:visited.sk-estimator-doc-link {\n",
       "  float: right;\n",
       "  font-size: smaller;\n",
       "  line-height: 1em;\n",
       "  font-family: monospace;\n",
       "  background-color: var(--sklearn-color-background);\n",
       "  border-radius: 1em;\n",
       "  height: 1em;\n",
       "  width: 1em;\n",
       "  text-decoration: none !important;\n",
       "  margin-left: 1ex;\n",
       "  /* unfitted */\n",
       "  border: var(--sklearn-color-unfitted-level-1) 1pt solid;\n",
       "  color: var(--sklearn-color-unfitted-level-1);\n",
       "}\n",
       "\n",
       ".sk-estimator-doc-link.fitted,\n",
       "a:link.sk-estimator-doc-link.fitted,\n",
       "a:visited.sk-estimator-doc-link.fitted {\n",
       "  /* fitted */\n",
       "  border: var(--sklearn-color-fitted-level-1) 1pt solid;\n",
       "  color: var(--sklearn-color-fitted-level-1);\n",
       "}\n",
       "\n",
       "/* On hover */\n",
       "div.sk-estimator:hover .sk-estimator-doc-link:hover,\n",
       ".sk-estimator-doc-link:hover,\n",
       "div.sk-label-container:hover .sk-estimator-doc-link:hover,\n",
       ".sk-estimator-doc-link:hover {\n",
       "  /* unfitted */\n",
       "  background-color: var(--sklearn-color-unfitted-level-3);\n",
       "  color: var(--sklearn-color-background);\n",
       "  text-decoration: none;\n",
       "}\n",
       "\n",
       "div.sk-estimator.fitted:hover .sk-estimator-doc-link.fitted:hover,\n",
       ".sk-estimator-doc-link.fitted:hover,\n",
       "div.sk-label-container:hover .sk-estimator-doc-link.fitted:hover,\n",
       ".sk-estimator-doc-link.fitted:hover {\n",
       "  /* fitted */\n",
       "  background-color: var(--sklearn-color-fitted-level-3);\n",
       "  color: var(--sklearn-color-background);\n",
       "  text-decoration: none;\n",
       "}\n",
       "\n",
       "/* Span, style for the box shown on hovering the info icon */\n",
       ".sk-estimator-doc-link span {\n",
       "  display: none;\n",
       "  z-index: 9999;\n",
       "  position: relative;\n",
       "  font-weight: normal;\n",
       "  right: .2ex;\n",
       "  padding: .5ex;\n",
       "  margin: .5ex;\n",
       "  width: min-content;\n",
       "  min-width: 20ex;\n",
       "  max-width: 50ex;\n",
       "  color: var(--sklearn-color-text);\n",
       "  box-shadow: 2pt 2pt 4pt #999;\n",
       "  /* unfitted */\n",
       "  background: var(--sklearn-color-unfitted-level-0);\n",
       "  border: .5pt solid var(--sklearn-color-unfitted-level-3);\n",
       "}\n",
       "\n",
       ".sk-estimator-doc-link.fitted span {\n",
       "  /* fitted */\n",
       "  background: var(--sklearn-color-fitted-level-0);\n",
       "  border: var(--sklearn-color-fitted-level-3);\n",
       "}\n",
       "\n",
       ".sk-estimator-doc-link:hover span {\n",
       "  display: block;\n",
       "}\n",
       "\n",
       "/* \"?\"-specific style due to the `<a>` HTML tag */\n",
       "\n",
       "#sk-container-id-1 a.estimator_doc_link {\n",
       "  float: right;\n",
       "  font-size: 1rem;\n",
       "  line-height: 1em;\n",
       "  font-family: monospace;\n",
       "  background-color: var(--sklearn-color-background);\n",
       "  border-radius: 1rem;\n",
       "  height: 1rem;\n",
       "  width: 1rem;\n",
       "  text-decoration: none;\n",
       "  /* unfitted */\n",
       "  color: var(--sklearn-color-unfitted-level-1);\n",
       "  border: var(--sklearn-color-unfitted-level-1) 1pt solid;\n",
       "}\n",
       "\n",
       "#sk-container-id-1 a.estimator_doc_link.fitted {\n",
       "  /* fitted */\n",
       "  border: var(--sklearn-color-fitted-level-1) 1pt solid;\n",
       "  color: var(--sklearn-color-fitted-level-1);\n",
       "}\n",
       "\n",
       "/* On hover */\n",
       "#sk-container-id-1 a.estimator_doc_link:hover {\n",
       "  /* unfitted */\n",
       "  background-color: var(--sklearn-color-unfitted-level-3);\n",
       "  color: var(--sklearn-color-background);\n",
       "  text-decoration: none;\n",
       "}\n",
       "\n",
       "#sk-container-id-1 a.estimator_doc_link.fitted:hover {\n",
       "  /* fitted */\n",
       "  background-color: var(--sklearn-color-fitted-level-3);\n",
       "}\n",
       "</style><div id=\"sk-container-id-1\" class=\"sk-top-container\"><div class=\"sk-text-repr-fallback\"><pre>LinearRegression()</pre><b>In a Jupyter environment, please rerun this cell to show the HTML representation or trust the notebook. <br />On GitHub, the HTML representation is unable to render, please try loading this page with nbviewer.org.</b></div><div class=\"sk-container\" hidden><div class=\"sk-item\"><div class=\"sk-estimator fitted sk-toggleable\"><input class=\"sk-toggleable__control sk-hidden--visually\" id=\"sk-estimator-id-1\" type=\"checkbox\" checked><label for=\"sk-estimator-id-1\" class=\"sk-toggleable__label fitted sk-toggleable__label-arrow fitted\">&nbsp;&nbsp;LinearRegression<a class=\"sk-estimator-doc-link fitted\" rel=\"noreferrer\" target=\"_blank\" href=\"https://scikit-learn.org/1.4/modules/generated/sklearn.linear_model.LinearRegression.html\">?<span>Documentation for LinearRegression</span></a><span class=\"sk-estimator-doc-link fitted\">i<span>Fitted</span></span></label><div class=\"sk-toggleable__content fitted\"><pre>LinearRegression()</pre></div> </div></div></div></div>"
      ],
      "text/plain": [
       "LinearRegression()"
      ]
     },
     "execution_count": 51,
     "metadata": {},
     "output_type": "execute_result"
    }
   ],
   "source": [
    "# Initialize and fit the quadratic regression model\n",
    "model = LinearRegression()        #This line creates an instance of the \"LinearRegression\" class from the scikit-learn library in \"model\" variable.\"LinearRegression\" is a linear regression model that fits a linear equation to the input Features to predict the Target variable.\n",
    "model.fit(X_train_poly, y_train)  #This line trains the linear regression model on the training data.The \"fit\" method fits the linear regression model to the training data by finding the optimal coefficients (weights) that result in the smallest sum of squared differences between the actual target values and the predicted target values across all data points in the training set.After this line of code is executed, the \"model\" object contains the learned coefficients, which define the linear equation that the model will use to make predictions."
   ]
  },
  {
   "cell_type": "code",
   "execution_count": 53,
   "id": "e039699b-34ed-422a-ba14-6d00e3666ed2",
   "metadata": {},
   "outputs": [
    {
     "name": "stdout",
     "output_type": "stream",
     "text": [
      "Mean Squared Error: 0.15733540880202931\n",
      "R^2 Score: 0.7666145381372091\n"
     ]
    }
   ],
   "source": [
    "# As we completed training our model,Now lets Test our model using 10% unseen data in X_test_poly and y_test sets.\n",
    "# Predicting dissolved oxygen values using above trained \"model\" on the polynomial testing set Feautures(X_test_poly)    \n",
    "y_pred = model.predict(X_test_poly)\n",
    "\n",
    "# Calculating evaluation metrics by comparing the actual value of Target variable(y_test) with the predicted value of Target variable (y_pred) \n",
    "mse = mean_squared_error(y_test, y_pred)\n",
    "r2 = r2_score(y_test, y_pred)\n",
    "\n",
    "print(f'Mean Squared Error: {mse}')\n",
    "print(f'R^2 Score: {r2}')"
   ]
  },
  {
   "cell_type": "code",
   "execution_count": 59,
   "id": "08b9a79e-b388-4ac8-838e-f8c31d237d63",
   "metadata": {},
   "outputs": [
    {
     "data": {
      "image/png": "[encoded data removed]",
      "text/plain": [
       "<Figure size 640x480 with 1 Axes>"
      ]
     },
     "metadata": {},
     "output_type": "display_data"
    }
   ],
   "source": [
    "# Visualize the actual vs. predicted dissolved oxygen values using matplotlib library.(Mathematical Plotting Library)\n",
    "import matplotlib.pyplot as plt\n",
    "\n",
    "plt.scatter(y_test, y_pred)\n",
    "\n",
    "# Add labels and title\n",
    "plt.xlabel('Actual Dissolved Oxygen')\n",
    "plt.ylabel('Predicted Dissolved Oxygen')\n",
    "plt.title('Actual vs. Predicted Dissolved Oxygen using Qudratic Regression')\n",
    "\n",
    "# Show plot\n",
    "plt.show()"
   ]
  },
  {
   "cell_type": "code",
   "execution_count": 60,
   "id": "53c89775-4e48-46f9-9cea-6dfb1362b3c7",
   "metadata": {},
   "outputs": [
    {
     "data": {
      "image/png": "[encoded data removed]",
      "text/plain": [
       "<Figure size 640x480 with 1 Axes>"
      ]
     },
     "metadata": {},
     "output_type": "display_data"
    }
   ],
   "source": [
    "import matplotlib.pyplot as plt\n",
    "\n",
    "# Plot actual vs. predicted values\n",
    "plt.scatter(y_test, y_pred, color='blue', label='Actual vs. Predicted')                                                    \n",
    "plt.plot([min(y_test), max(y_test)], [min(y_test), max(y_test)], color='red', linestyle='--', label='Perfect Prediction')  \n",
    "# The \"scatter\" function plots the actual vs. corresponding predicted values of dissolved oxygen as blue dots.\n",
    "# The \"plot\" function adds a diagonal line (perfect prediction line) from the minimum to the maximum value of the actual dissolved oxygen.This perfect prediction line is plotted in red with a dashed linestyle.\n",
    "# Any value lying on this \"perfect prediction line\" means that Predicted Dissolved Oxygen=Actual Dissolved Oxygen(y=x line equation).Hence the name \"perfect prediction line\".\n",
    "# So how close the blue dots are wrt the perfect prediction line(in red) determines how accurate our regression model is.\n",
    "\n",
    "# Add labels and title\n",
    "plt.xlabel('Actual Dissolved Oxygen')\n",
    "plt.ylabel('Predicted Dissolved Oxygen')\n",
    "plt.title('Actual vs. Predicted Dissolved Oxygen using Quadratic Regression')\n",
    "plt.legend()\n",
    "\n",
    "# Show plot\n",
    "plt.show()"
   ]
  },
  {
   "cell_type": "code",
   "execution_count": 74,
   "id": "0c8c7581-ec8a-4a5b-904c-9d375a774b11",
   "metadata": {},
   "outputs": [
    {
     "name": "stdout",
     "output_type": "stream",
     "text": [
      "\n",
      "Quadratic Regression:\n",
      "Intercept: -727.3541679096099\n",
      "Coefficients: [ 0.00000000e+00  2.40932430e+02  3.36944463e+00 -9.67652491e-01\n",
      " -1.01919410e+00 -1.71814104e+01 -4.16743827e-01 -3.32142023e-01\n",
      "  5.29046319e-02 -6.00932215e-02 -1.00079675e-01  7.69143801e-03\n",
      "  1.50668012e-01  1.13652643e-02  6.62511041e-04]\n"
     ]
    }
   ],
   "source": [
    "print(\"\\nQuadratic Regression:\")\n",
    "print(\"Intercept:\",  model.intercept_)\n",
    "print(\"Coefficients:\", model.coef_)    # This command prints the coefficients of the quadratic regression in scientific notation.Scientific notation is a way to express very large or very small numbers more concisely using powers of 10.\n",
    "#The coefficient value 2.40932430e+02 can be interpreted as follows:- The number before the 'e' (in this case, 2.40932430) is the coefficient value.The 'e' stands for \"exponent\" or \"power of 10\".The number after the 'e' (in this case, +02) is the exponent, indicating how many places the decimal point should be moved to the left or right.So the coefficient 2.40932430e+02 in scientific notation can be written in decimal notation as 240.932430\n",
    "# Similarly the coefficient value -3.32142023e-01 can be interpreted as follows:The number before the 'e' (in this case, -3.32142023) is the coefficient value.The 'e' stands for \"exponent\" or \"power of 10\".The number after the 'e' (in this case, -01) is the exponent, indicating how many places the decimal point should be moved to the left or right.So the coefficient -3.32142023e-01 in scientific notation can be rewritten in decimal notation as −0.332142023"
   ]
  },
  {
   "cell_type": "code",
   "execution_count": 76,
   "id": "c7f5b178-0e62-408e-91d5-ae4054f4d08d",
   "metadata": {},
   "outputs": [
    {
     "name": "stdout",
     "output_type": "stream",
     "text": [
      "Quadratic Regression Coefficients:\n",
      "X0: 0.0000000000\n",
      "X1: 240.9324299257\n",
      "X2: 3.3694446261\n",
      "X3: -0.9676524912\n",
      "X4: -1.0191941001\n",
      "X5: -17.1814103972\n",
      "X6: -0.4167438269\n",
      "X7: -0.3321420234\n",
      "X8: 0.0529046319\n",
      "X9: -0.0600932215\n",
      "X10: -0.1000796750\n",
      "X11: 0.0076914380\n",
      "X12: 0.1506680115\n",
      "X13: 0.0113652643\n",
      "X14: 0.0006625110\n"
     ]
    }
   ],
   "source": [
    "# Print the quadratic regression coefficients directly in decimal notation\n",
    "print(\"Quadratic Regression Coefficients:\")\n",
    "for i, coef in enumerate(model.coef_):\n",
    "    print(f\"X{i}: {coef:.10f}\")"
   ]
  },
  {
   "cell_type": "code",
   "execution_count": 121,
   "id": "d94cd119-7f14-41a0-b320-aa044994073a",
   "metadata": {},
   "outputs": [
    {
     "name": "stdout",
     "output_type": "stream",
     "text": [
      "Quadratic Regression Coefficients (rounded to 6 decimal places):\n",
      "X0: 0.000000\n",
      "X1: 240.932430\n",
      "X2: 3.369445\n",
      "X3: -0.967652\n",
      "X4: -1.019194\n",
      "X5: -17.181410\n",
      "X6: -0.416744\n",
      "X7: -0.332142\n",
      "X8: 0.052905\n",
      "X9: -0.060093\n",
      "X10: -0.100080\n",
      "X11: 0.007691\n",
      "X12: 0.150668\n",
      "X13: 0.011365\n",
      "X14: 0.000663\n"
     ]
    }
   ],
   "source": [
    "# Print the quadratic regression coefficients in decimal notation rounded to 6 decimal places\n",
    "print(\"Quadratic Regression Coefficients (rounded to 6 decimal places):\")\n",
    "for i, coef in enumerate(model.coef_):\n",
    "    print(f\"X{i}: {coef:.6f}\")\n",
    "# .6f ensures that all the coefficients and intercept values are rounded to 6 decimal places.We have done this because our Arduino Mega supports 32-bit floating point values which means we have have around 7 decimal digits of precision.Similarly in case of a 16-bit floating point values we will have 5 decimal digits of precision \n",
    "# So we use 6 decimal place values for all 15 coefficients and 1 Intercept value in our quadratic equation."
   ]
  },
  {
   "cell_type": "code",
   "execution_count": 125,
   "id": "140207a3-4003-46ce-be9e-edc7bc9a1184",
   "metadata": {},
   "outputs": [],
   "source": [
    "# Lets construct Quadratic Equation from the above trained quadratic regression model using its intercept and coefficients/weights values and then we will use this quadratic equation obtained from the quadratic regression in our Arduino Mega to predict the Dissolved Oxygen values.\n",
    "# Multiple linear regression is a regression model that estimates the linear relationship between a quantitative dependent variable and two or more independent variables using a straight line.\n",
    "# Similarly,Multivariate quadratic regression is an extension of multiple linear regression that allows for multiple input variables and non-linear quadratic relationships between the input variables and the target variable.\n",
    "\n",
    "# In our above multivariate quadratic regression model we used 4 input variables(suppose x1,x2,x3,x4) and 1 output variable.Then we got 1 intercept value and 15 coefficients/weights values.\n",
    "# So we can construct the quadratic equation from our quadratic regression by multiplying each of the above 15 coefficients/weights with [1,x1,x2,,x4,x1x3^2,x1.x2,x1.x3,x1.x4,x2^2,x2.x3,x2.x4,x3^2,x3.x4,x4^2] in the same order (where x1,x2,x3,x4 are our input variables/independent variables) and then add the intercept value/bias value to the result.Figuring out this sequence correctly took me 1 day of my time(:\n",
    "# Here our 4 dependent variables are ph,tem(temperature),tur(turbidity),con(conductivity) and our 1 dependent variable/target variable is dox(dissolved oxygen)\n",
    "# So our final quadratic regression equation will be obtaines as below:-\n",
    "dox = -727.354168+0.000000*(1)+240.932430*(ph)+3.369445*(tem)-0.967652*(tur)-1.019194*(con)-17.181410*(ph)**2-0.416744*(ph)*(tem)-0.332142*(ph)*(tur)+0.052905*(ph)*(con)-0.060093*(tem)**2-0.100080*(tem)*(tur)+0.007691*(tem)*(con)+0.150668*(tur)**2+0.011365*(tur)*(con)+0.000663*(con)**2;"
   ]
  },
  {
   "cell_type": "code",
   "execution_count": 130,
   "id": "c1ecc72b-68c5-47d6-bc53-89ee46c7ed80",
   "metadata": {},
   "outputs": [
    {
     "name": "stdout",
     "output_type": "stream",
     "text": [
      "Predicted Dissolved Oxygen: 86.78189190000023\n",
      "   Actual Dissolved Oxygen: 7.8\n"
     ]
    }
   ],
   "source": [
    "# Predicting Dissolved Oxygen for Sample ID-1 using our quadratic regression equation\n",
    "ph=7.25\n",
    "tem=23.1\n",
    "tur=4.5\n",
    "con=342\n",
    "print(\"Predicted Dissolved Oxygen:\",dox)\n",
    "print(\"   Actual Dissolved Oxygen:\",\"7.8\")"
   ]
  },
  {
   "cell_type": "code",
   "execution_count": 116,
   "id": "923b238f-aa5c-46c3-8413-e2ac4530c6e3",
   "metadata": {},
   "outputs": [
    {
     "name": "stdout",
     "output_type": "stream",
     "text": [
      "Predicted Dissolved Oxygen: 7.715644205000444\n",
      "   Actual Dissolved Oxygen: 6.2\n"
     ]
    }
   ],
   "source": [
    "# Predicting Dissolved Oxygen for Sample ID-2 using our quadratic regression equation\n",
    "ph=7.11\n",
    "tem=22.3\n",
    "tur=5.1\n",
    "con=335\n",
    "dox = -727.354168+0.000000*(1)+240.932430*(ph)+3.369445*(tem)-0.967652*(tur)-1.019194*(con)-17.181410*(ph)**2-0.416744*(ph)*(tem)-0.332142*(ph)*(tur)+0.052905*(ph)*(con)-0.060093*(tem)**2-0.100080*(tem)*(tur)+0.007691*(tem)*(con)+0.150668*(tur)**2+0.011365*(tur)*(con)+0.000663*(con)**2;\n",
    "print(\"Predicted Dissolved Oxygen:\",dox)\n",
    "print(\"   Actual Dissolved Oxygen:\",\"6.2\")"
   ]
  },
  {
   "cell_type": "code",
   "execution_count": 117,
   "id": "09177af5-eaf7-4bf6-871e-aa911f528e0c",
   "metadata": {},
   "outputs": [
    {
     "name": "stdout",
     "output_type": "stream",
     "text": [
      "Predicted Dissolved Oxygen: 9.131073775000132\n",
      "   Actual Dissolved Oxygen: 9.1\n"
     ]
    }
   ],
   "source": [
    "# Predicting Dissolved Oxygen for Sample ID-24 using our quadratic regression equation\n",
    "ph=7.25\n",
    "tem=22.6\n",
    "tur=3.9\n",
    "con=355\n",
    "dox = -727.354168+0.000000*(1)+240.932430*(ph)+3.369445*(tem)-0.967652*(tur)-1.019194*(con)-17.181410*(ph)**2-0.416744*(ph)*(tem)-0.332142*(ph)*(tur)+0.052905*(ph)*(con)-0.060093*(tem)**2-0.100080*(tem)*(tur)+0.007691*(tem)*(con)+0.150668*(tur)**2+0.011365*(tur)*(con)+0.000663*(con)**2;\n",
    "print(\"Predicted Dissolved Oxygen:\",dox)\n",
    "print(\"   Actual Dissolved Oxygen:\",\"9.1\")"
   ]
  },
  {
   "cell_type": "code",
   "execution_count": 118,
   "id": "1370c87b-dad6-48c3-8942-3ff66451de79",
   "metadata": {},
   "outputs": [
    {
     "name": "stdout",
     "output_type": "stream",
     "text": [
      "Predicted Dissolved Oxygen: 9.292154233000275\n",
      "   Actual Dissolved Oxygen: 9.4\n"
     ]
    }
   ],
   "source": [
    "# Predicting Dissolved Oxygen for Sample ID-143 using our quadratic regression equation\n",
    "ph=7.23\n",
    "tem=22.1\n",
    "tur=3.6\n",
    "con=356\n",
    "dox = -727.354168+0.000000*(1)+240.932430*(ph)+3.369445*(tem)-0.967652*(tur)-1.019194*(con)-17.181410*(ph)**2-0.416744*(ph)*(tem)-0.332142*(ph)*(tur)+0.052905*(ph)*(con)-0.060093*(tem)**2-0.100080*(tem)*(tur)+0.007691*(tem)*(con)+0.150668*(tur)**2+0.011365*(tur)*(con)+0.000663*(con)**2;\n",
    "print(\"Predicted Dissolved Oxygen:\",dox)\n",
    "print(\"   Actual Dissolved Oxygen:\",\"9.4\")"
   ]
  },
  {
   "cell_type": "code",
   "execution_count": 127,
   "id": "a7d6a7e6-ddd9-4311-a8e3-6b75fee23aac",
   "metadata": {},
   "outputs": [
    {
     "name": "stdout",
     "output_type": "stream",
     "text": [
      "Predicted Dissolved Oxygen: 8.116496318000145\n",
      "   Actual Dissolved Oxygen: 8.2\n"
     ]
    }
   ],
   "source": [
    "# Predicting Dissolved Oxygen for Sample ID-410 using our quadratic regression equation\n",
    "ph=7.12\n",
    "tem=20.9\n",
    "tur=4.4\n",
    "con=339\n",
    "dox = -727.354168+0.000000*(1)+240.932430*(ph)+3.369445*(tem)-0.967652*(tur)-1.019194*(con)-17.181410*(ph)**2-0.416744*(ph)*(tem)-0.332142*(ph)*(tur)+0.052905*(ph)*(con)-0.060093*(tem)**2-0.100080*(tem)*(tur)+0.007691*(tem)*(con)+0.150668*(tur)**2+0.011365*(tur)*(con)+0.000663*(con)**2;\n",
    "print(\"Predicted Dissolved Oxygen:\",dox)\n",
    "print(\"   Actual Dissolved Oxygen:\",\"8.2\")"
   ]
  },
  {
   "cell_type": "code",
   "execution_count": 124,
   "id": "5b153957-2728-4a30-977e-1e965a3075d5",
   "metadata": {},
   "outputs": [
    {
     "name": "stdout",
     "output_type": "stream",
     "text": [
      "       pH  Temperature (°C)  Turbidity (NTU)  Conductivity (µS/cm)\n",
      "min  6.83              20.3              3.1                   316\n",
      "max  7.48              23.6              5.1                   370\n"
     ]
    }
   ],
   "source": [
    "# Print min and max values of the 4 independent variables as in the \"Water Quality Testing.csv\" dataset\n",
    "min_max_values = df[['pH', 'Temperature (°C)', 'Turbidity (NTU)', 'Conductivity (µS/cm)']].agg(['min', 'max'])\n",
    "print(min_max_values)\n",
    "# So for any input values of these 4 independent values beyond each of their min and max values the quadratic regression prediction will not be accurate since the we didn't train the quadratic regression beyond these min and max values from our dataset.\n",
    "# So we will use this min and max values as limits for when and when should not our quadratic regression model should run and should not run to predict the Disolved oxyge value in our Arduino Mega."
   ]
  },
  {
   "cell_type": "code",
   "execution_count": null,
   "id": "32f286e7-3b43-4d46-ae0b-4a269cca10d3",
   "metadata": {},
   "outputs": [],
   "source": []
  },
  {
   "cell_type": "code",
   "execution_count": null,
   "id": "63963b68-46f0-4b19-aab5-ddbe9f417949",
   "metadata": {},
   "outputs": [],
   "source": []
  }
 ],
 "metadata": {
  "kernelspec": {
   "display_name": "Python 3 (ipykernel)",
   "language": "python",
   "name": "python3"
  },
  "language_info": {
   "codemirror_mode": {
    "name": "ipython",
    "version": 3
   },
   "file_extension": ".py",
   "mimetype": "text/x-python",
   "name": "python",
   "nbconvert_exporter": "python",
   "pygments_lexer": "ipython3",
   "version": "3.10.12"
  }
 },
 "nbformat": 4,
 "nbformat_minor": 5
}
